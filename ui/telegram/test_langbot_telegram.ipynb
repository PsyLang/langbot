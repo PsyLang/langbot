{
 "cells": [
  {
   "cell_type": "markdown",
   "metadata": {},
   "source": [
    "# Python과 텔레그램 봇 API를 이용해서 챗봇 만들기 실습 - 완전 기초"
   ]
  },
  {
   "cell_type": "markdown",
   "metadata": {},
   "source": [
    "* 복작복잡 + 멜팅팟 공동 세미나 : 봇봇봇 - 나쁜 봇 랭봇, 텔레그램에서 보낸 한 철 \n",
    "    - http://onoffmix.com/event/89407\n",
    "    - [랭보, '지옥에서 보낸 한 철'](http://sitong.or.kr/bbs/zboard.php?id=recomend&page=30&sn1=&divpage=1&sn=off&ss=on&sc=on&select_arrange=name&desc=desc&no=49)\n",
    "* 김무성\n",
    "\n",
    "* 원소스 \n",
    "    - 싸이랭 / 싸이랭 : 파트 3 - Python을 이용한 자연어처리 기초 실습\n",
    "        - https://www.facebook.com/groups/psylang/"
   ]
  },
  {
   "cell_type": "markdown",
   "metadata": {},
   "source": [
    "# 0. 싸이랭/랭봇 docker image pulling & container 실행"
   ]
  },
  {
   "cell_type": "markdown",
   "metadata": {},
   "source": [
    "docker 환경 자체는 구성되어 있어야 한다.\n",
    "* https://www.docker.com/"
   ]
  },
  {
   "cell_type": "markdown",
   "metadata": {},
   "source": [
    "docker-compose\n",
    "* https://docs.docker.com/compose/install/"
   ]
  },
  {
   "cell_type": "markdown",
   "metadata": {},
   "source": [
    "실습 소스를 가져온다."
   ]
  },
  {
   "cell_type": "markdown",
   "metadata": {},
   "source": [
    "> git clone https://github.com/PsyLang/langbot.git "
   ]
  },
  {
   "cell_type": "markdown",
   "metadata": {},
   "source": [
    "docker-compose 스크립트를 실행시킨다."
   ]
  },
  {
   "cell_type": "markdown",
   "metadata": {},
   "source": [
    "> cd (설치경로)langbot/docker"
   ]
  },
  {
   "cell_type": "markdown",
   "metadata": {},
   "source": [
    "해당디렉토리에 docker-compose.yml 설정 파일이 있다."
   ]
  },
  {
   "cell_type": "markdown",
   "metadata": {},
   "source": [
    "> # langbot/docker/docker-compose.yml\n",
    "langbot:\n",
    "  image: psylang/langbot:0.1\n",
    "  ports:\n",
    "    - \"8888:8888\" \n",
    "    - \"6006:6006\"\n",
    "  volumes:\n",
    "    - ../:/notebooks/work/langbot\n",
    "  tty: true"
   ]
  },
  {
   "cell_type": "markdown",
   "metadata": {},
   "source": [
    "스크립트 실행"
   ]
  },
  {
   "cell_type": "markdown",
   "metadata": {},
   "source": [
    "> docker-compose up"
   ]
  },
  {
   "cell_type": "markdown",
   "metadata": {},
   "source": [
    "웹 브라우저로 접속한다"
   ]
  },
  {
   "cell_type": "markdown",
   "metadata": {},
   "source": [
    "> http://localhost:8888"
   ]
  },
  {
   "cell_type": "markdown",
   "metadata": {},
   "source": [
    "# 1. @BotFather를 통한 봇 등록 / 토큰 발급 / 설정 "
   ]
  },
  {
   "cell_type": "markdown",
   "metadata": {},
   "source": [
    "이제부터는 langbot/ui/telegram 디렉토리 안의 test_langbot_telegram.ipynb 파일 기준으로 진행된다."
   ]
  },
  {
   "cell_type": "markdown",
   "metadata": {},
   "source": [
    "### 텔레그램 봇 등록 & 토큰 발행"
   ]
  },
  {
   "cell_type": "markdown",
   "metadata": {},
   "source": [
    "#### 참고\n",
    "* [1] 텔레그램 로봇, 공식 API로 만들기 (파이썬, 구글 앱 엔진) - http://bakyeono.net/post/2015-08-24-using-telegram-bot-api.html"
   ]
  },
  {
   "cell_type": "markdown",
   "metadata": {},
   "source": [
    "발급받은 토큰을 langbot.keyfile의 첫줄에 복사해넣는다."
   ]
  },
  {
   "cell_type": "code",
   "execution_count": null,
   "metadata": {
    "collapsed": false
   },
   "outputs": [],
   "source": [
    "!ls ./"
   ]
  },
  {
   "cell_type": "markdown",
   "metadata": {},
   "source": [
    "# 2. python-telegram-bot 설치"
   ]
  },
  {
   "cell_type": "markdown",
   "metadata": {},
   "source": [
    "#### 참고\n",
    "* [2] python-telegram-bot - https://github.com/python-telegram-bot/python-telegram-bot"
   ]
  },
  {
   "cell_type": "markdown",
   "metadata": {},
   "source": [
    "이 실습에서는 python3 버전으로 설치한다."
   ]
  },
  {
   "cell_type": "code",
   "execution_count": null,
   "metadata": {
    "collapsed": true
   },
   "outputs": [],
   "source": [
    "!pip3 install python-telegram-bot --upgrade"
   ]
  },
  {
   "cell_type": "markdown",
   "metadata": {},
   "source": [
    "# 3. 간단한 에코 봇 만들기 "
   ]
  },
  {
   "cell_type": "markdown",
   "metadata": {},
   "source": [
    "#### 참고\n",
    "* [3] Extensions – Your first Bot - https://github.com/python-telegram-bot/python-telegram-bot/wiki/Extensions-%E2%80%93-Your-first-Bot"
   ]
  },
  {
   "cell_type": "code",
   "execution_count": null,
   "metadata": {
    "collapsed": true
   },
   "outputs": [],
   "source": [
    "import os"
   ]
  },
  {
   "cell_type": "code",
   "execution_count": null,
   "metadata": {
    "collapsed": true
   },
   "outputs": [],
   "source": [
    "from telegram.ext import Updater\n",
    "from telegram.ext import CommandHandler\n",
    "from telegram.ext import MessageHandler, Filters"
   ]
  },
  {
   "cell_type": "code",
   "execution_count": null,
   "metadata": {
    "collapsed": false
   },
   "outputs": [],
   "source": [
    "with open(os.path.join('.','langbot.keyfile'), 'r') as f :\n",
    "        token = f.readline().strip()"
   ]
  },
  {
   "cell_type": "code",
   "execution_count": null,
   "metadata": {
    "collapsed": true
   },
   "outputs": [],
   "source": [
    "updater = Updater(token=token)"
   ]
  },
  {
   "cell_type": "code",
   "execution_count": null,
   "metadata": {
    "collapsed": false
   },
   "outputs": [],
   "source": [
    "dispatcher = updater.dispatcher"
   ]
  },
  {
   "cell_type": "markdown",
   "metadata": {},
   "source": [
    "### 예제 1) 시작 메시지 등록"
   ]
  },
  {
   "cell_type": "code",
   "execution_count": null,
   "metadata": {
    "collapsed": true
   },
   "outputs": [],
   "source": [
    "def start(bot, update):\n",
    "    bot.sendMessage(chat_id=update.message.chat_id, text=\"안녕, 난 언어학습을 도와주는 랭봇이야!\")"
   ]
  },
  {
   "cell_type": "code",
   "execution_count": null,
   "metadata": {
    "collapsed": true
   },
   "outputs": [],
   "source": [
    "start_handler = CommandHandler('start', start)\n",
    "dispatcher.add_handler(start_handler)"
   ]
  },
  {
   "cell_type": "markdown",
   "metadata": {},
   "source": [
    "### 예제 2) 유저 챗 아이디 체크하고, 확인하는 핸들러 등록"
   ]
  },
  {
   "cell_type": "code",
   "execution_count": null,
   "metadata": {
    "collapsed": true
   },
   "outputs": [],
   "source": [
    "G_STATES = {}"
   ]
  },
  {
   "cell_type": "code",
   "execution_count": null,
   "metadata": {
    "collapsed": true
   },
   "outputs": [],
   "source": [
    "def init_state(chat_id) :\n",
    "    G_STATES[chat_id] = '' "
   ]
  },
  {
   "cell_type": "code",
   "execution_count": null,
   "metadata": {
    "collapsed": true
   },
   "outputs": [],
   "source": [
    "def check_state(chat_id) :\n",
    "    if not chat_id in G_STATES:\n",
    "        init_state(chat_id)"
   ]
  },
  {
   "cell_type": "code",
   "execution_count": null,
   "metadata": {
    "collapsed": true
   },
   "outputs": [],
   "source": [
    "def get_state(chat_id) :\n",
    "    return G_STATES[chat_id]"
   ]
  },
  {
   "cell_type": "code",
   "execution_count": null,
   "metadata": {
    "collapsed": true
   },
   "outputs": [],
   "source": [
    "def set_state(chat_id, val) :\n",
    "    G_STATES[chat_id] = val"
   ]
  },
  {
   "cell_type": "code",
   "execution_count": null,
   "metadata": {
    "collapsed": true
   },
   "outputs": [],
   "source": [
    "def iam(bot, update):\n",
    "    chat_id = update.message.chat_id\n",
    "    check_state(chat_id)\n",
    "    st = get_state(chat_id)\n",
    "    msg = \"my chat_id is %d\" %(chat_id)\n",
    "    msg = msg + \"\\n\" + \"my state is %s\" %(st)\n",
    "    bot.sendMessage(chat_id=update.message.chat_id, text=msg)\n",
    "    set_state(chat_id, st+str(1)) # 이 부분은 유저의 상태를 핸들링할 수 있다는 것을 보기 위해 추가되었다."
   ]
  },
  {
   "cell_type": "code",
   "execution_count": null,
   "metadata": {
    "collapsed": false
   },
   "outputs": [],
   "source": [
    "iam_handler = CommandHandler('iam', iam)"
   ]
  },
  {
   "cell_type": "code",
   "execution_count": null,
   "metadata": {
    "collapsed": true
   },
   "outputs": [],
   "source": [
    "dispatcher.add_handler(iam_handler)"
   ]
  },
  {
   "cell_type": "markdown",
   "metadata": {},
   "source": [
    "### 예제 3) 에코 봇으로 만들기 (대답 따라하는 메시지 핸들러 등록)"
   ]
  },
  {
   "cell_type": "code",
   "execution_count": null,
   "metadata": {
    "collapsed": true
   },
   "outputs": [],
   "source": [
    "def echo(bot, update):\n",
    "    bot.sendMessage(chat_id=update.message.chat_id, text=update.message.text)"
   ]
  },
  {
   "cell_type": "code",
   "execution_count": null,
   "metadata": {
    "collapsed": true
   },
   "outputs": [],
   "source": [
    "echo_handler = MessageHandler(Filters.text, echo)\n",
    "dispatcher.add_handler(echo_handler)"
   ]
  },
  {
   "cell_type": "markdown",
   "metadata": {},
   "source": [
    "### 봇 실행"
   ]
  },
  {
   "cell_type": "code",
   "execution_count": null,
   "metadata": {
    "collapsed": false
   },
   "outputs": [],
   "source": [
    "updater.start_polling()"
   ]
  },
  {
   "cell_type": "markdown",
   "metadata": {},
   "source": [
    "# 4. Supervisor를 이용해서 봇 스크립트를 계속 실행시키기"
   ]
  },
  {
   "cell_type": "markdown",
   "metadata": {},
   "source": [
    "#### 참고자료\n",
    "* [4] Building AI Chat bot using Python 3 & TensorFlow - https://speakerdeck.com/inureyes/building-ai-chat-bot-using-python-3-and-tensorflow\n",
    "* [5] Supervisor: A Process Control System - http://supervisord.org/"
   ]
  },
  {
   "cell_type": "markdown",
   "metadata": {},
   "source": [
    "### supervisor 설치"
   ]
  },
  {
   "cell_type": "markdown",
   "metadata": {},
   "source": [
    "supervisor는 python2만 지원(아직은)"
   ]
  },
  {
   "cell_type": "code",
   "execution_count": null,
   "metadata": {
    "collapsed": false
   },
   "outputs": [],
   "source": [
    "!pip install supervisor"
   ]
  },
  {
   "cell_type": "markdown",
   "metadata": {},
   "source": [
    "### 스크립트에 포함된 패키지들 설치"
   ]
  },
  {
   "cell_type": "markdown",
   "metadata": {},
   "source": [
    "bs4 패키지가 설치되어야 한다"
   ]
  },
  {
   "cell_type": "code",
   "execution_count": null,
   "metadata": {
    "collapsed": false
   },
   "outputs": [],
   "source": [
    "!pip3 install bs4"
   ]
  },
  {
   "cell_type": "markdown",
   "metadata": {},
   "source": [
    "### Supervisor 설정파일에 스크립트 등록"
   ]
  },
  {
   "cell_type": "markdown",
   "metadata": {},
   "source": [
    "Supervisor에 봇 스크립트를 등록해서 실행시키기 위해서, supervisord.conf라는 파일에 몇가지 설정을 해야 한다. 그리고 특정 경로에 그 파일을 옮겨준다."
   ]
  },
  {
   "cell_type": "code",
   "execution_count": null,
   "metadata": {
    "collapsed": false
   },
   "outputs": [],
   "source": [
    "!ls"
   ]
  },
  {
   "cell_type": "code",
   "execution_count": null,
   "metadata": {
    "collapsed": true
   },
   "outputs": [],
   "source": [
    "!cp supervisord.conf /etc/supervisord.conf"
   ]
  },
  {
   "cell_type": "markdown",
   "metadata": {},
   "source": [
    "### Running Supervisor"
   ]
  },
  {
   "cell_type": "markdown",
   "metadata": {},
   "source": [
    "터미널을 열고 (주피터 터미널을 쓰면 좀 더 쉬움) supervisor 명령 실행"
   ]
  },
  {
   "cell_type": "markdown",
   "metadata": {},
   "source": [
    "> supervisord"
   ]
  },
  {
   "cell_type": "markdown",
   "metadata": {},
   "source": [
    "그리고 다시 터미널에서 supervisorctl 명령 실행"
   ]
  },
  {
   "cell_type": "markdown",
   "metadata": {},
   "source": [
    "> supervisorctl"
   ]
  },
  {
   "cell_type": "markdown",
   "metadata": {
    "collapsed": true
   },
   "source": [
    "# 참고자료 \n",
    "* [1] 텔레그램 로봇, 공식 API로 만들기 (파이썬, 구글 앱 엔진) - http://bakyeono.net/post/2015-08-24-using-telegram-bot-api.html\n",
    "* [2] python-telegram-bot - https://github.com/python-telegram-bot/python-telegram-bot\n",
    "* [3] Extensions – Your first Bot - https://github.com/python-telegram-bot/python-telegram-bot/wiki/Extensions-%E2%80%93-Your-first-Bot\n",
    "* [4] \n",
    "Building AI Chat bot using Python 3 & TensorFlow - https://speakerdeck.com/inureyes/building-ai-chat-bot-using-python-3-and-tensorflow\n",
    "* [5] Supervisor: A Process Control System - http://supervisord.org/"
   ]
  }
 ],
 "metadata": {
  "kernelspec": {
   "display_name": "Python 3",
   "language": "python",
   "name": "python3"
  },
  "language_info": {
   "codemirror_mode": {
    "name": "ipython",
    "version": 3
   },
   "file_extension": ".py",
   "mimetype": "text/x-python",
   "name": "python",
   "nbconvert_exporter": "python",
   "pygments_lexer": "ipython3",
   "version": "3.4.3"
  }
 },
 "nbformat": 4,
 "nbformat_minor": 0
}
