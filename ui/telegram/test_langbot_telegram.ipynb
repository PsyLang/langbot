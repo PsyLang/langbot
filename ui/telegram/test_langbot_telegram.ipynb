{
 "cells": [
  {
   "cell_type": "markdown",
   "metadata": {},
   "source": [
    "# Python과 텔레그램 봇 API를 이용해서 챗봇 만들기 실습 - 완전 기초"
   ]
  },
  {
   "cell_type": "markdown",
   "metadata": {},
   "source": [
    "* 싸이랭 / 싸이랭 : 파트 3 - Python을 이용한 자연어처리 기초 실습\n",
    "* 김무성"
   ]
  },
  {
   "cell_type": "markdown",
   "metadata": {},
   "source": [
    "# 0. 싸이랭/랭봇 docker image pulling & container 실행"
   ]
  },
  {
   "cell_type": "markdown",
   "metadata": {},
   "source": [
    "실습 소스를 가져온다."
   ]
  },
  {
   "cell_type": "raw",
   "metadata": {},
   "source": [
    "git clone https://github.com/PsyLang/langbot.git"
   ]
  },
  {
   "cell_type": "markdown",
   "metadata": {},
   "source": [
    "실습을 위한 docker 이미지 받는다.(docker 환경 자체는 구성되어 있어야 함)"
   ]
  },
  {
   "cell_type": "raw",
   "metadata": {},
   "source": [
    "docker pull psylang/langbot:0.1"
   ]
  },
  {
   "cell_type": "markdown",
   "metadata": {},
   "source": [
    "docker 컨테이너를 실행시킨다. 그러기 위해서 소스의 docker-scripts 디렉토리로 이동한다. \n",
    "실행 스크립트 run_langbot.sh에서 []로 되어 있는 부분을 자신만의 내용으로 변경해준다."
   ]
  },
  {
   "cell_type": "raw",
   "metadata": {},
   "source": [
    "# langbot/docker/docker-scripts/run_langbot.sh\n",
    "docker run -it --name=[your_container_name] -p [your_host_jupyter_port]:8888 -p [your_host_tensorboard_port]:6006 -e \"TZ=Asia/Seoul\" -v [your_host_directory]:/notebooks/work psylang/langbot:0.1\n",
    "\n",
    "변경 예)\n",
    "docker run -it --name=run_langbot -p 8888:8888 -p 6006:6006 -e \"TZ=Asia/Seoul\" -v /Users/moosungkim/PyCharmProjects/:/notebooks/work psylang/langbot:0.1"
   ]
  },
  {
   "cell_type": "markdown",
   "metadata": {},
   "source": [
    "스크립트 실행"
   ]
  },
  {
   "cell_type": "raw",
   "metadata": {},
   "source": [
    "sh run_langbot.sh"
   ]
  },
  {
   "cell_type": "markdown",
   "metadata": {},
   "source": [
    "웹 브라우저로 접속한다"
   ]
  },
  {
   "cell_type": "raw",
   "metadata": {},
   "source": [
    "http://localhost:[your_host_jupyter_port]"
   ]
  },
  {
   "cell_type": "markdown",
   "metadata": {},
   "source": [
    "# 1. @BotFather를 통한 봇 등록 / 토큰 발급 / 설정 "
   ]
  },
  {
   "cell_type": "markdown",
   "metadata": {},
   "source": [
    "이제부터는 langbot/ui/telegram 디렉토리 안의 test_langbot_telegram.ipynb 파일 기준으로 진행된다."
   ]
  },
  {
   "cell_type": "markdown",
   "metadata": {},
   "source": [
    "### 텔레그램 봇 등록 & 토큰 발행"
   ]
  },
  {
   "cell_type": "markdown",
   "metadata": {},
   "source": [
    "#### 참고\n",
    "* [1] 텔레그램 로봇, 공식 API로 만들기 (파이썬, 구글 앱 엔진) - http://bakyeono.net/post/2015-08-24-using-telegram-bot-api.html"
   ]
  },
  {
   "cell_type": "markdown",
   "metadata": {},
   "source": [
    "발급받은 토큰을 langbot.keyfile의 첫줄에 복사해넣는다."
   ]
  },
  {
   "cell_type": "code",
   "execution_count": 8,
   "metadata": {
    "collapsed": false
   },
   "outputs": [
    {
     "name": "stdout",
     "output_type": "stream",
     "text": [
      "langbot.keyfile   langbot_serve.py.old\ttest_langbot_telegram.ipynb\r\n",
      "langbot_serve.py  supervisord.conf\r\n"
     ]
    }
   ],
   "source": [
    "!ls ./"
   ]
  },
  {
   "cell_type": "markdown",
   "metadata": {},
   "source": [
    "# 2. python-telegram-bot 설치"
   ]
  },
  {
   "cell_type": "markdown",
   "metadata": {},
   "source": [
    "#### 참고\n",
    "* [2] python-telegram-bot - https://github.com/python-telegram-bot/python-telegram-bot"
   ]
  },
  {
   "cell_type": "markdown",
   "metadata": {},
   "source": [
    "이 실습에서는 python3 버전으로 설치한다."
   ]
  },
  {
   "cell_type": "code",
   "execution_count": 2,
   "metadata": {
    "collapsed": false
   },
   "outputs": [
    {
     "name": "stdout",
     "output_type": "stream",
     "text": [
      "Downloading/unpacking python-telegram-bot\n",
      "  Downloading python_telegram_bot-5.2.0-py2.py3-none-any.whl (151kB): 151kB downloaded\n",
      "Downloading/unpacking urllib3>=1.10 (from python-telegram-bot)\n",
      "  Downloading urllib3-1.19.1-py2.py3-none-any.whl (104kB): 104kB downloaded\n",
      "Downloading/unpacking future>=0.15.2 (from python-telegram-bot)\n",
      "  Downloading future-0.16.0.tar.gz (824kB): 824kB downloaded\n",
      "  Running setup.py (path:/tmp/pip_build_root/future/setup.py) egg_info for package future\n",
      "    \n",
      "    warning: no files found matching '*.au' under directory 'tests'\n",
      "    warning: no files found matching '*.gif' under directory 'tests'\n",
      "    warning: no files found matching '*.txt' under directory 'tests'\n",
      "Downloading/unpacking certifi (from python-telegram-bot)\n",
      "  Downloading certifi-2016.9.26-py2.py3-none-any.whl (377kB): 377kB downloaded\n",
      "Installing collected packages: python-telegram-bot, urllib3, future, certifi\n",
      "  Found existing installation: urllib3 1.7.1\n",
      "    Not uninstalling urllib3 at /usr/lib/python3/dist-packages, owned by OS\n",
      "  Running setup.py install for future\n",
      "    \n",
      "    warning: no files found matching '*.au' under directory 'tests'\n",
      "    warning: no files found matching '*.gif' under directory 'tests'\n",
      "    warning: no files found matching '*.txt' under directory 'tests'\n",
      "    Installing futurize script to /usr/local/bin\n",
      "    Installing pasteurize script to /usr/local/bin\n",
      "\u001b[33m  Could not find .egg-info directory in install record for future>=0.15.2 (from python-telegram-bot)\n",
      "\u001b[0mSuccessfully installed python-telegram-bot urllib3 future certifi\n",
      "Cleaning up...\n"
     ]
    }
   ],
   "source": [
    "!pip3 install python-telegram-bot --upgrade"
   ]
  },
  {
   "cell_type": "markdown",
   "metadata": {},
   "source": [
    "# 3. 간단한 에코 봇 만들기 "
   ]
  },
  {
   "cell_type": "markdown",
   "metadata": {},
   "source": [
    "#### 참고\n",
    "* [3] Extensions – Your first Bot - https://github.com/python-telegram-bot/python-telegram-bot/wiki/Extensions-%E2%80%93-Your-first-Bot"
   ]
  },
  {
   "cell_type": "code",
   "execution_count": 3,
   "metadata": {
    "collapsed": true
   },
   "outputs": [],
   "source": [
    "import os"
   ]
  },
  {
   "cell_type": "code",
   "execution_count": 4,
   "metadata": {
    "collapsed": true
   },
   "outputs": [],
   "source": [
    "from telegram.ext import Updater\n",
    "from telegram.ext import CommandHandler\n",
    "from telegram.ext import MessageHandler, Filters"
   ]
  },
  {
   "cell_type": "code",
   "execution_count": 5,
   "metadata": {
    "collapsed": false
   },
   "outputs": [],
   "source": [
    "with open(os.path.join('.','langbot.keyfile'), 'r') as f :\n",
    "        token = f.readline().strip()"
   ]
  },
  {
   "cell_type": "code",
   "execution_count": 6,
   "metadata": {
    "collapsed": true
   },
   "outputs": [],
   "source": [
    "updater = Updater(token=token)"
   ]
  },
  {
   "cell_type": "code",
   "execution_count": 7,
   "metadata": {
    "collapsed": false
   },
   "outputs": [],
   "source": [
    "dispatcher = updater.dispatcher"
   ]
  },
  {
   "cell_type": "markdown",
   "metadata": {},
   "source": [
    "### 예제 1) 시작 메시지 등록"
   ]
  },
  {
   "cell_type": "code",
   "execution_count": 8,
   "metadata": {
    "collapsed": true
   },
   "outputs": [],
   "source": [
    "def start(bot, update):\n",
    "    bot.sendMessage(chat_id=update.message.chat_id, text=\"안녕, 난 언어학습을 도와주는 랭봇이야!\")"
   ]
  },
  {
   "cell_type": "code",
   "execution_count": 9,
   "metadata": {
    "collapsed": true
   },
   "outputs": [],
   "source": [
    "start_handler = CommandHandler('start', start)\n",
    "dispatcher.add_handler(start_handler)"
   ]
  },
  {
   "cell_type": "markdown",
   "metadata": {},
   "source": [
    "### 예제 2) 유저 챗 아이디 체크하고, 확인하는 핸들러 등록"
   ]
  },
  {
   "cell_type": "code",
   "execution_count": 10,
   "metadata": {
    "collapsed": true
   },
   "outputs": [],
   "source": [
    "G_STATES = {}"
   ]
  },
  {
   "cell_type": "code",
   "execution_count": 11,
   "metadata": {
    "collapsed": true
   },
   "outputs": [],
   "source": [
    "def init_state(chat_id) :\n",
    "    G_STATES[chat_id] = '' "
   ]
  },
  {
   "cell_type": "code",
   "execution_count": 12,
   "metadata": {
    "collapsed": true
   },
   "outputs": [],
   "source": [
    "def check_state(chat_id) :\n",
    "    if not chat_id in G_STATES:\n",
    "        init_state(chat_id)"
   ]
  },
  {
   "cell_type": "code",
   "execution_count": 13,
   "metadata": {
    "collapsed": true
   },
   "outputs": [],
   "source": [
    "def get_state(chat_id) :\n",
    "    return G_STATES[chat_id]"
   ]
  },
  {
   "cell_type": "code",
   "execution_count": 14,
   "metadata": {
    "collapsed": true
   },
   "outputs": [],
   "source": [
    "def set_state(chat_id, val) :\n",
    "    G_STATES[chat_id] = val"
   ]
  },
  {
   "cell_type": "code",
   "execution_count": 15,
   "metadata": {
    "collapsed": true
   },
   "outputs": [],
   "source": [
    "def iam(bot, update):\n",
    "    chat_id = update.message.chat_id\n",
    "    check_state(chat_id)\n",
    "    st = get_state(chat_id)\n",
    "    msg = \"my chat_id is %d\" %(chat_id)\n",
    "    msg = msg + \"\\n\" + \"my state is %s\" %(st)\n",
    "    bot.sendMessage(chat_id=update.message.chat_id, text=msg)\n",
    "    set_state(chat_id, st+str(1)) # 이 부분은 유저의 상태를 핸들링할 수 있다는 것을 보기 위해 추가되었다."
   ]
  },
  {
   "cell_type": "code",
   "execution_count": 16,
   "metadata": {
    "collapsed": false
   },
   "outputs": [],
   "source": [
    "iam_handler = CommandHandler('iam', iam)"
   ]
  },
  {
   "cell_type": "code",
   "execution_count": 17,
   "metadata": {
    "collapsed": true
   },
   "outputs": [],
   "source": [
    "dispatcher.add_handler(iam_handler)"
   ]
  },
  {
   "cell_type": "markdown",
   "metadata": {},
   "source": [
    "### 예제 3) 에코 봇으로 만들기 (대답 따라하는 메시지 핸들러 등록)"
   ]
  },
  {
   "cell_type": "code",
   "execution_count": 18,
   "metadata": {
    "collapsed": true
   },
   "outputs": [],
   "source": [
    "def echo(bot, update):\n",
    "    bot.sendMessage(chat_id=update.message.chat_id, text=update.message.text)"
   ]
  },
  {
   "cell_type": "code",
   "execution_count": 19,
   "metadata": {
    "collapsed": true
   },
   "outputs": [],
   "source": [
    "echo_handler = MessageHandler(Filters.text, echo)\n",
    "dispatcher.add_handler(echo_handler)"
   ]
  },
  {
   "cell_type": "markdown",
   "metadata": {},
   "source": [
    "### 봇 실행"
   ]
  },
  {
   "cell_type": "code",
   "execution_count": 20,
   "metadata": {
    "collapsed": false
   },
   "outputs": [
    {
     "data": {
      "text/plain": [
       "<queue.Queue at 0x7f71996233c8>"
      ]
     },
     "execution_count": 20,
     "metadata": {},
     "output_type": "execute_result"
    }
   ],
   "source": [
    "updater.start_polling()"
   ]
  },
  {
   "cell_type": "markdown",
   "metadata": {},
   "source": [
    "# 4. Supervisor를 이용해서 봇 스크립트를 계속 실행시키기"
   ]
  },
  {
   "cell_type": "markdown",
   "metadata": {},
   "source": [
    "#### 참고자료\n",
    "* [4] Building AI Chat bot using Python 3 & TensorFlow - https://speakerdeck.com/inureyes/building-ai-chat-bot-using-python-3-and-tensorflow\n",
    "* [5] Supervisor: A Process Control System - http://supervisord.org/"
   ]
  },
  {
   "cell_type": "markdown",
   "metadata": {},
   "source": [
    "### supervisor 설치"
   ]
  },
  {
   "cell_type": "markdown",
   "metadata": {},
   "source": [
    "supervisor는 python2만 지원(아직은)"
   ]
  },
  {
   "cell_type": "code",
   "execution_count": 1,
   "metadata": {
    "collapsed": false
   },
   "outputs": [
    {
     "name": "stdout",
     "output_type": "stream",
     "text": [
      "Collecting supervisor\n",
      "/usr/local/lib/python2.7/dist-packages/pip/_vendor/requests/packages/urllib3/util/ssl_.py:315: SNIMissingWarning: An HTTPS request has been made, but the SNI (Subject Name Indication) extension to TLS is not available on this platform. This may cause the server to present an incorrect TLS certificate, which can cause validation failures. For more information, see https://urllib3.readthedocs.org/en/latest/security.html#snimissingwarning.\n",
      "  SNIMissingWarning\n",
      "/usr/local/lib/python2.7/dist-packages/pip/_vendor/requests/packages/urllib3/util/ssl_.py:120: InsecurePlatformWarning: A true SSLContext object is not available. This prevents urllib3 from configuring SSL appropriately and may cause certain SSL connections to fail. For more information, see https://urllib3.readthedocs.org/en/latest/security.html#insecureplatformwarning.\n",
      "  InsecurePlatformWarning\n",
      "  Downloading supervisor-3.3.1.tar.gz (415kB)\n",
      "\u001b[K    100% |################################| 419kB 867kB/s \n",
      "\u001b[?25hCollecting meld3>=0.6.5 (from supervisor)\n",
      "  Downloading meld3-1.0.2-py2.py3-none-any.whl\n",
      "Building wheels for collected packages: supervisor\n",
      "  Running setup.py bdist_wheel for supervisor ... \u001b[?25l-\b \b\\\b \bdone\n",
      "\u001b[?25h  Stored in directory: /root/.cache/pip/wheels/13/ea/25/c236d39561d2be9c427655e5d48d0bd2b75dc8e7e8b51d029d\n",
      "Successfully built supervisor\n",
      "Installing collected packages: meld3, supervisor\n",
      "Successfully installed meld3-1.0.2 supervisor-3.3.1\n",
      "/usr/local/lib/python2.7/dist-packages/pip/_vendor/requests/packages/urllib3/util/ssl_.py:120: InsecurePlatformWarning: A true SSLContext object is not available. This prevents urllib3 from configuring SSL appropriately and may cause certain SSL connections to fail. For more information, see https://urllib3.readthedocs.org/en/latest/security.html#insecureplatformwarning.\n",
      "  InsecurePlatformWarning\n",
      "\u001b[33mYou are using pip version 8.1.1, however version 9.0.1 is available.\n",
      "You should consider upgrading via the 'pip install --upgrade pip' command.\u001b[0m\n"
     ]
    }
   ],
   "source": [
    "!pip install supervisor"
   ]
  },
  {
   "cell_type": "markdown",
   "metadata": {},
   "source": [
    "### 스크립트에 포함된 패키지들 설치"
   ]
  },
  {
   "cell_type": "markdown",
   "metadata": {},
   "source": [
    "bs4 패키지가 설치되어야 한다"
   ]
  },
  {
   "cell_type": "code",
   "execution_count": 6,
   "metadata": {
    "collapsed": false
   },
   "outputs": [
    {
     "name": "stdout",
     "output_type": "stream",
     "text": [
      "Requirement already satisfied (use --upgrade to upgrade): bs4 in /usr/local/lib/python3.4/dist-packages\r\n",
      "Requirement already satisfied (use --upgrade to upgrade): beautifulsoup4 in /usr/local/lib/python3.4/dist-packages (from bs4)\r\n",
      "Cleaning up...\r\n"
     ]
    }
   ],
   "source": [
    "!pip3 install bs4"
   ]
  },
  {
   "cell_type": "markdown",
   "metadata": {},
   "source": [
    "### Supervisor 설정파일에 스크립트 등록"
   ]
  },
  {
   "cell_type": "markdown",
   "metadata": {},
   "source": [
    "Supervisor에 봇 스크립트를 등록해서 실행시키기 위해서, supervisord.conf라는 파일에 몇가지 설정을 해야 한다. 그리고 특정 경로에 그 파일을 옮겨준다."
   ]
  },
  {
   "cell_type": "code",
   "execution_count": 9,
   "metadata": {
    "collapsed": false
   },
   "outputs": [
    {
     "name": "stdout",
     "output_type": "stream",
     "text": [
      "langbot.keyfile   langbot_serve.py.old\ttest_langbot_telegram.ipynb\r\n",
      "langbot_serve.py  supervisord.conf\r\n"
     ]
    }
   ],
   "source": [
    "!ls"
   ]
  },
  {
   "cell_type": "code",
   "execution_count": 5,
   "metadata": {
    "collapsed": true
   },
   "outputs": [],
   "source": [
    "!cp supervisord.conf /etc/supervisord.conf"
   ]
  },
  {
   "cell_type": "markdown",
   "metadata": {},
   "source": [
    "### Running Supervisor"
   ]
  },
  {
   "cell_type": "markdown",
   "metadata": {},
   "source": [
    "터미널을 열고 (주피터 터미널을 쓰면 좀 더 쉬움) supervisor 명령 실행"
   ]
  },
  {
   "cell_type": "raw",
   "metadata": {},
   "source": [
    "supervisor"
   ]
  },
  {
   "cell_type": "markdown",
   "metadata": {},
   "source": [
    "그리고 다시 터미널에서 supervisorctl 명령 실행"
   ]
  },
  {
   "cell_type": "raw",
   "metadata": {},
   "source": [
    "supervisorctl"
   ]
  },
  {
   "cell_type": "markdown",
   "metadata": {
    "collapsed": true
   },
   "source": [
    "# 참고자료 \n",
    "* [1] 텔레그램 로봇, 공식 API로 만들기 (파이썬, 구글 앱 엔진) - http://bakyeono.net/post/2015-08-24-using-telegram-bot-api.html\n",
    "* [2] python-telegram-bot - https://github.com/python-telegram-bot/python-telegram-bot\n",
    "* [3] Extensions – Your first Bot - https://github.com/python-telegram-bot/python-telegram-bot/wiki/Extensions-%E2%80%93-Your-first-Bot\n",
    "* [4] \n",
    "Building AI Chat bot using Python 3 & TensorFlow - https://speakerdeck.com/inureyes/building-ai-chat-bot-using-python-3-and-tensorflow\n",
    "* [5] Supervisor: A Process Control System - http://supervisord.org/"
   ]
  },
  {
   "cell_type": "code",
   "execution_count": null,
   "metadata": {
    "collapsed": true
   },
   "outputs": [],
   "source": []
  }
 ],
 "metadata": {
  "kernelspec": {
   "display_name": "Python 3",
   "language": "python",
   "name": "python3"
  },
  "language_info": {
   "codemirror_mode": {
    "name": "ipython",
    "version": 3
   },
   "file_extension": ".py",
   "mimetype": "text/x-python",
   "name": "python",
   "nbconvert_exporter": "python",
   "pygments_lexer": "ipython3",
   "version": "3.4.3"
  }
 },
 "nbformat": 4,
 "nbformat_minor": 0
}
